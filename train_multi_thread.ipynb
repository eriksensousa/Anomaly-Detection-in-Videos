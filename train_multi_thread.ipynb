{
  "nbformat": 4,
  "nbformat_minor": 0,
  "metadata": {
    "colab": {
      "name": "Copy of Copy of Copy of train.ipynb",
      "private_outputs": true,
      "provenance": [],
      "collapsed_sections": [],
      "toc_visible": true,
      "machine_shape": "hm",
      "include_colab_link": true
    },
    "kernelspec": {
      "name": "python3",
      "display_name": "Python 3"
    }
  },
  "cells": [
    {
      "cell_type": "markdown",
      "metadata": {
        "id": "view-in-github",
        "colab_type": "text"
      },
      "source": [
        "<a href=\"https://colab.research.google.com/github/cbalkig/Anomaly_Detection_in_Videos/blob/master/train_multi_thread.ipynb\" target=\"_parent\"><img src=\"https://colab.research.google.com/assets/colab-badge.svg\" alt=\"Open In Colab\"/></a>"
      ]
    },
    {
      "cell_type": "code",
      "metadata": {
        "id": "I6pLKB_rlG55"
      },
      "source": [
        "import multiprocessing as mp\n",
        "import sys\n",
        "from multiprocessing import Process\n",
        "print(mp.cpu_count())"
      ],
      "execution_count": null,
      "outputs": []
    },
    {
      "cell_type": "code",
      "metadata": {
        "id": "Z5l0wNtKs7vP"
      },
      "source": [
        "import os\n",
        "import pandas as pd\n",
        "import numpy as np\n",
        "import time"
      ],
      "execution_count": null,
      "outputs": []
    },
    {
      "cell_type": "code",
      "metadata": {
        "id": "hDd3-dzSs82m"
      },
      "source": [
        "working_directory = '/content/drive/MyDrive/AnomalyDetectionInVideos'"
      ],
      "execution_count": null,
      "outputs": []
    },
    {
      "cell_type": "code",
      "metadata": {
        "id": "pKtCPjOYs97U"
      },
      "source": [
        "class Config:\n",
        "    EDIT_DATASET_PATH = os.path.join(working_directory, \"regenerated_files\")\n",
        "    BATCH_SIZE = 256\n",
        "    EPOCHS = 10\n",
        "    IMAGE_SIZE = 256\n",
        "    THREAD_COUNT = 2\n",
        "    LOG_FILE = os.path.join(working_directory, \"log.txt\")"
      ],
      "execution_count": null,
      "outputs": []
    },
    {
      "cell_type": "code",
      "metadata": {
        "id": "qkgt65KustCR"
      },
      "source": [
        "#sys.stdout=open(Config.LOG_FILE,\"w\")\n",
        "processes = {}"
      ],
      "execution_count": null,
      "outputs": []
    },
    {
      "cell_type": "code",
      "metadata": {
        "id": "t9tnVYvkQR6x"
      },
      "source": [
        "def show_batch(image_batch, label_batch):\n",
        "    plt.figure(figsize=(10,10))\n",
        "    for n in range(10):\n",
        "        ax = plt.subplot(5,5,n+1)\n",
        "        plt.imshow(image_batch[n, :, :, 0], cmap='gray')\n",
        "        plt.axis('off')"
      ],
      "execution_count": null,
      "outputs": []
    },
    {
      "cell_type": "code",
      "metadata": {
        "id": "rxkazTWsRyIb"
      },
      "source": [
        "def plot_acc_loss(trained):\n",
        "    fig, ax = plt.subplots(1, 2, figsize=(15,5))\n",
        "    ax[0].set_title('loss')\n",
        "    ax[0].plot(trained.epoch, trained.history[\"loss\"], label=\"Train loss\")\n",
        "    ax[1].set_title('acc')\n",
        "    ax[1].plot(trained.epoch, trained.history[\"accuracy\"], label=\"Train acc\")\n",
        "    ax[0].legend()\n",
        "    ax[1].legend()"
      ],
      "execution_count": null,
      "outputs": []
    },
    {
      "cell_type": "code",
      "metadata": {
        "id": "34IS1evyZFIM"
      },
      "source": [
        "def train(id):\n",
        "    import keras\n",
        "    from keras.layers import Conv2D, Flatten, Dense, Dropout, MaxPooling2D\n",
        "    from keras.models import Sequential, load_model\n",
        "    from keras.preprocessing.image import ImageDataGenerator\n",
        "\n",
        "    train_datagen = ImageDataGenerator(\n",
        "        rescale=1./255,\n",
        "        shear_range=0.2,\n",
        "        rotation_range=30, \n",
        "        fill_mode='nearest',\n",
        "        brightness_range=[0.4,1.5])\n",
        "\n",
        "    train_generator = train_datagen.flow_from_dataframe(\n",
        "            dataframe=dfs[id],  \n",
        "            directory=Config.EDIT_DATASET_PATH,\n",
        "            x_col=\"file_name\",\n",
        "            y_col=\"label\",\n",
        "            target_size=(Config.IMAGE_SIZE, Config.IMAGE_SIZE),\n",
        "            batch_size=Config.BATCH_SIZE,\n",
        "            shuffle=True,\n",
        "            color_mode = 'grayscale',\n",
        "            class_mode='binary')\n",
        "    print(\"Sample Count after ImageDataGenerator\", train_generator.samples)\n",
        "\n",
        "\n",
        "    print(\"I will start process\", id)\n",
        "\n",
        "    input_shape = (Config.IMAGE_SIZE, Config.IMAGE_SIZE, 1)\n",
        "\n",
        "    model = Sequential()\n",
        "\n",
        "    model.add(Conv2D(32, kernel_size=3, activation=\"relu\", input_shape=input_shape))\n",
        "    model.add(MaxPooling2D(pool_size=(2, 2)))\n",
        "\n",
        "    model.add(Flatten())\n",
        "    model.add(Dense(64, activation=\"relu\"))\n",
        "    model.add(Dropout(0.5))\n",
        "    model.add(Dense(1, activation=\"sigmoid\"))\n",
        "\n",
        "    model.compile(optimizer='adam', loss='binary_crossentropy', metrics=['accuracy'])\n",
        "\n",
        "    data = train_generator\n",
        "    print(\"Data is ready for process\", id, model, data)\n",
        "\n",
        "    history = model.fit(data, epochs=Config.EPOCHS, verbose=1)\n",
        "\n",
        "    print(\"Model is ready for process\", id)\n",
        "\n",
        "    model_path = os.path.join(working_directory, \"model_\" + str(id) + \".hdf5\")\n",
        "    model.save(model_path)\n",
        "    print(\"Model saved : \", model_path)\n",
        "\n",
        "    print(\"I've finished process\", id)"
      ],
      "execution_count": null,
      "outputs": []
    },
    {
      "cell_type": "code",
      "metadata": {
        "id": "KPx5SBGnWQ4u"
      },
      "source": [
        "sample_count = sum(len(files) for _, _, files in os.walk(Config.EDIT_DATASET_PATH))\n",
        "print(\"Sample Count\", sample_count)"
      ],
      "execution_count": null,
      "outputs": []
    },
    {
      "cell_type": "code",
      "metadata": {
        "id": "Q4E0m5ljVHu_"
      },
      "source": [
        "#Generate data frame as file_name, class_name (label)\n",
        "image_array = []\n",
        "\n",
        "count = 0\n",
        "for f in sorted(os.listdir(Config.EDIT_DATASET_PATH)):\n",
        "    directory_path = os.path.join(Config.EDIT_DATASET_PATH, f)\n",
        "    if os.path.isdir(directory_path):\n",
        "        class_name = f\n",
        "        for v in sorted(os.listdir(directory_path)):\n",
        "            file_name = os.path.join(directory_path, v)\n",
        "            image_array.append([file_name, f])\n",
        "            count = count + 1\n",
        "\n",
        "df = pd.DataFrame(data=image_array, columns=['file_name', 'label'])\n",
        "print(df.head())"
      ],
      "execution_count": null,
      "outputs": []
    },
    {
      "cell_type": "code",
      "metadata": {
        "id": "jaKeXlAgfmNm"
      },
      "source": [
        "slider = int(sample_count / Config.THREAD_COUNT)\n",
        "\n",
        "sliders = []\n",
        "for i in range(Config.THREAD_COUNT):\n",
        "    sliders.append(i * slider)\n",
        "sliders.append(sample_count)\n",
        "\n",
        "print(\"Sliders\", sliders)\n",
        "\n",
        "df = df.iloc[np.random.permutation(len(df))]\n",
        "\n",
        "dfs = []\n",
        "for i in range(Config.THREAD_COUNT):\n",
        "    dfs.append(df.iloc[sliders[i]:sliders[i+1] - 1])"
      ],
      "execution_count": null,
      "outputs": []
    },
    {
      "cell_type": "code",
      "metadata": {
        "id": "Fe_09tfotJjQ"
      },
      "source": [
        "start_time = time.time()\n",
        "for i in range(Config.THREAD_COUNT):\n",
        "    print('registering process %d' % i)\n",
        "    proc = Process(target=train, args=(i,))\n",
        "    proc.start()\n",
        "    processes[i] = proc\n",
        "\n",
        "while (True):\n",
        "    finished_count = 0\n",
        "    for id in processes.keys():\n",
        "      # print(\"Process\", id, \" is alive:\", processes[id].is_alive())\n",
        "      if not processes[id].is_alive():\n",
        "          finished_count = finished_count + 1\n",
        "    \n",
        "    if finished_count == Config.THREAD_COUNT:\n",
        "        break\n",
        "    else:\n",
        "        time.sleep(5)\n",
        "\n",
        "print(\"Train Execution time:\", time.time() - start_time, \"seconds.\")"
      ],
      "execution_count": null,
      "outputs": []
    }
  ]
}